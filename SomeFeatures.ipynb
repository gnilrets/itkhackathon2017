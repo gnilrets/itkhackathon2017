{
 "cells": [
  {
   "cell_type": "code",
   "execution_count": 8,
   "metadata": {},
   "outputs": [
    {
     "name": "stdout",
     "output_type": "stream",
     "text": [
      "---\n",
      "{'cell_type': 'code', 'execution_count': 7, 'metadata': {}, 'outputs': [], 'source': \"import nbformat\\n\\nfp = open('SomeFeatures.ipynb')\\nnb = nbformat.read(fp, 4)\\n\\n#for cell in nb['cells']:\\n#    print('---')\\n#    print(cell)\"}\n",
      "---\n",
      "{'cell_type': 'markdown', 'metadata': {'table_name': 'MyFile'}, 'source': '| id | first_name | phone |\\n| - | - | - |\\n| 1  | Buffy | 555-555-5555 |\\n'}\n",
      "---\n",
      "{'cell_type': 'markdown', 'metadata': {}, 'source': '## Simple mapper'}\n",
      "---\n",
      "{'cell_type': 'markdown', 'metadata': {}, 'source': \"Given the following source called 'MyFile':\\n\\n| id | first_name | phone |\\n| - | - | - |\\n| 1  | Buffy | 555-555-5555 |\\n\\nThen the target 'Catalyst Contact' should match the example:\\n\\n| Student_ID__c | FirstName | Phone |\\n| - | - | - |\\n| 1  | Buffy | 555-555-5555 |\"}\n",
      "---\n",
      "{'cell_type': 'markdown', 'metadata': {}, 'source': \"## Simple transform\\n\\nGiven the following source called 'MyFile':\\n\\n| id | name |\\n| - | - |\\n| 1  | Summers, Buffy |\\n\\nThen the target 'Catalyst Contact' should match the example:\\n\\n| Student_ID__c | FirstName | LastName |\\n| - | - | - | - |\\n| SDH1  | Buffy | Summers |\\n\"}\n",
      "---\n",
      "{'cell_type': 'markdown', 'metadata': {}, 'source': \"## Deduper\\n\\nGiven the following source called 'MyFile':\\n\\n| id | name |\\n| - | - |\\n| 1  | Buffy |\\n| 1  | Faith |\\n\\nThen the target 'Catalyst Contact' should match the example:\\n\\n| Student_ID__c | FirstName |\\n| - | - | - |\\n| SDH1  | Buffy |\\n\"}\n",
      "---\n",
      "{'cell_type': 'markdown', 'metadata': {}, 'source': \"## Join\\n\\nGiven the following source called 'MyFile':\\n\\n| id | name |\\n| - | - |\\n| 1  | Buffy |\\n\\nAnd the following source called 'ClassesFile':\\n\\n| id | student_id | name |\\n| - | - | - |\\n| 1 | 1 | Psychology |\\n| 2 | 1 | History |\\n| 3 | 1 | Physiology |\\n\\nThen the target 'Catalyst Contact' should match the example:\\n\\n| Class_Record_ID__c | FirstName | ClassName |\\n| - | - | - |\\n| SDH1-1  | Buffy | Psychology |\\n| SDH1-2  | Buffy | History |\\n| SDH1-3  | Buffy | Physiology |\\n\"}\n"
     ]
    }
   ],
   "source": [
    "import nbformat\n",
    "\n",
    "fp = open('SomeFeatures.ipynb')\n",
    "nb = nbformat.read(fp, 4)\n",
    "\n",
    "for cell in nb['cells']:\n",
    "    print('---')\n",
    "    print(cell)"
   ]
  },
  {
   "cell_type": "markdown",
   "metadata": {
    "table_name": "MyFile"
   },
   "source": [
    "\n",
    "MyFile:\n",
    "\n",
    "| id | first_name | phone |\n",
    "| --- | --- | --- |\n",
    "| 1  | Buffy | 555-555-5555 |\n"
   ]
  },
  {
   "cell_type": "markdown",
   "metadata": {},
   "source": [
    "## Simple mapper"
   ]
  },
  {
   "cell_type": "markdown",
   "metadata": {},
   "source": [
    "Given the following source called 'MyFile':\n",
    "\n",
    "| id | first_name | phone |\n",
    "| - | - | - |\n",
    "| 1  | Buffy | 555-555-5555 |\n",
    "\n",
    "Then the target 'Catalyst Contact' should match the example:\n",
    "\n",
    "| Student_ID__c | FirstName | Phone |\n",
    "| - | - | - |\n",
    "| 1  | Buffy | 555-555-5555 |"
   ]
  },
  {
   "cell_type": "markdown",
   "metadata": {},
   "source": [
    "## Simple transform\n",
    "\n",
    "Given the following source called 'MyFile':\n",
    "\n",
    "| id | name |\n",
    "| - | - |\n",
    "| 1  | Summers, Buffy |\n",
    "\n",
    "Then the target 'Catalyst Contact' should match the example:\n",
    "\n",
    "| Student_ID__c | FirstName | LastName |\n",
    "| - | - | - | - |\n",
    "| SDH1  | Buffy | Summers |\n"
   ]
  },
  {
   "cell_type": "markdown",
   "metadata": {},
   "source": [
    "## Deduper\n",
    "\n",
    "Given the following source called 'MyFile':\n",
    "\n",
    "| id | name |\n",
    "| - | - |\n",
    "| 1  | Buffy |\n",
    "| 1  | Faith |\n",
    "\n",
    "Then the target 'Catalyst Contact' should match the example:\n",
    "\n",
    "| Student_ID__c | FirstName |\n",
    "| - | - | - |\n",
    "| SDH1  | Buffy |\n"
   ]
  },
  {
   "cell_type": "markdown",
   "metadata": {},
   "source": [
    "## Join\n",
    "\n",
    "Given the following source called 'MyFile':\n",
    "\n",
    "| id | name |\n",
    "| - | - |\n",
    "| 1  | Buffy |\n",
    "\n",
    "And the following source called 'ClassesFile':\n",
    "\n",
    "| id | student_id | name |\n",
    "| - | - | - |\n",
    "| 1 | 1 | Psychology |\n",
    "| 2 | 1 | History |\n",
    "| 3 | 1 | Physiology |\n",
    "\n",
    "Then the target 'Catalyst Contact' should match the example:\n",
    "\n",
    "| Class_Record_ID__c | FirstName | ClassName |\n",
    "| - | - | - |\n",
    "| SDH1-1  | Buffy | Psychology |\n",
    "| SDH1-2  | Buffy | History |\n",
    "| SDH1-3  | Buffy | Physiology |\n"
   ]
  }
 ],
 "metadata": {
  "kernelspec": {
   "display_name": "Python 3",
   "language": "python",
   "name": "python3"
  },
  "language_info": {
   "codemirror_mode": {
    "name": "ipython",
    "version": 3
   },
   "file_extension": ".py",
   "mimetype": "text/x-python",
   "name": "python",
   "nbconvert_exporter": "python",
   "pygments_lexer": "ipython3",
   "version": "3.6.1"
  }
 },
 "nbformat": 4,
 "nbformat_minor": 2
}
