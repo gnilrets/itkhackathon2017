{
 "cells": [
  {
   "cell_type": "code",
   "execution_count": 48,
   "metadata": {},
   "outputs": [
    {
     "data": {
      "text/html": [
       "<style>\n",
       "table {margin-left: 0 !important;}\n",
       "</style>"
      ],
      "text/plain": [
       "<IPython.core.display.HTML object>"
      ]
     },
     "metadata": {},
     "output_type": "display_data"
    }
   ],
   "source": [
    "%%html\n",
    "<style>\n",
    "table {margin-left: 0 !important;}\n",
    "</style>"
   ]
  },
  {
   "cell_type": "code",
   "execution_count": 88,
   "metadata": {},
   "outputs": [
    {
     "data": {
      "text/html": [
       "<div>\n",
       "<style>\n",
       "    .dataframe thead tr:only-child th {\n",
       "        text-align: right;\n",
       "    }\n",
       "\n",
       "    .dataframe thead th {\n",
       "        text-align: left;\n",
       "    }\n",
       "\n",
       "    .dataframe tbody tr th {\n",
       "        vertical-align: top;\n",
       "    }\n",
       "</style>\n",
       "<table border=\"1\" class=\"dataframe\">\n",
       "  <thead>\n",
       "    <tr style=\"text-align: right;\">\n",
       "      <th></th>\n",
       "      <th>Student_ID__c</th>\n",
       "      <th>FirstName</th>\n",
       "      <th>Phone</th>\n",
       "    </tr>\n",
       "  </thead>\n",
       "  <tbody>\n",
       "    <tr>\n",
       "      <th>0</th>\n",
       "      <td>1</td>\n",
       "      <td>Buffy</td>\n",
       "      <td>555-555-5555</td>\n",
       "    </tr>\n",
       "  </tbody>\n",
       "</table>\n",
       "</div>"
      ],
      "text/plain": [
       "  Student_ID__c FirstName         Phone\n",
       "0             1     Buffy  555-555-5555"
      ]
     },
     "execution_count": 88,
     "metadata": {},
     "output_type": "execute_result"
    }
   ],
   "source": [
    "from IPython.display import display, HTML\n",
    "\n",
    "import re\n",
    "import io\n",
    "import pandas as pd\n",
    "from pandas.util.testing import assert_frame_equal\n",
    "\n",
    "class TableData:\n",
    "    def __init__(self, table):\n",
    "        self.df = self.as_df(table)\n",
    "\n",
    "    def as_df(self, table):\n",
    "        # Remove trailing comments\n",
    "        table_to_parse = re.compile(r'(#.*$)', flags = re.MULTILINE).sub('', table)\n",
    "        \n",
    "        # Remove beginning and terminal pipe on each row\n",
    "        table_to_parse = re.compile(r'(^\\s*\\|\\s*|\\s*\\|\\s*$)', flags = re.MULTILINE).sub('', table_to_parse)\n",
    "        \n",
    "        # Remove whitespace surrouding pipes\n",
    "        table_to_parse = re.compile(r'\\s*\\|\\s*').sub('|', table_to_parse)\n",
    "        \n",
    "        # Remove header separator\n",
    "        table_to_parse = table_to_parse.split('\\n')\n",
    "        table_to_parse.pop(1)\n",
    "        table_to_parse = '\\n'.join(table_to_parse)\n",
    "\n",
    "        parsed_df = pd.read_csv(io.StringIO(table_to_parse), sep=\"|\")\n",
    "        return TableData.stringify_df(parsed_df)\n",
    "\n",
    "    @classmethod\n",
    "    def stringify_df(cls, df):\n",
    "        for col in df.columns:\n",
    "            df[col] = df[col].apply(lambda x: str(x))\n",
    "        return df\n",
    "\n",
    "    @classmethod\n",
    "    def compare_stringified_df(cls, df1, df2):\n",
    "        df1 = cls.stringify_df(df1.copy())\n",
    "        df2 = cls.stringify_df(df2.copy())\n",
    "        return df1.equals(df2)\n",
    "\n",
    "\n",
    "import nbformat\n",
    "\n",
    "def get_markdown_table(scenario, table_name):\n",
    "    fp = open('SomeFeatures.ipynb')\n",
    "    nb = nbformat.read(fp, 4)\n",
    "\n",
    "    table_cells = [cell for cell in nb['cells'] if 'table_name' in cell['metadata']]\n",
    "    table_data = {}\n",
    "    for cell in table_cells:\n",
    "        cell_scenario = cell['metadata']['scenario']\n",
    "        cell_table_name = cell['metadata']['table_name']\n",
    "        \n",
    "        if cell_scenario not in table_data:\n",
    "            table_data[cell_scenario] = {}\n",
    "        table_data[cell_scenario][cell_table_name] = cell['source']\n",
    "        \n",
    "    return TableData(table_data[scenario][table_name]).df\n",
    "\n",
    "#get_markdown_table('simple_mapper', 'target')"
   ]
  },
  {
   "cell_type": "markdown",
   "metadata": {},
   "source": [
    "## Simple mapper"
   ]
  },
  {
   "cell_type": "markdown",
   "metadata": {},
   "source": [
    "Given the following source:"
   ]
  },
  {
   "cell_type": "markdown",
   "metadata": {
    "scenario": "simple_mapper",
    "table_name": "source"
   },
   "source": [
    "| id | first_name | phone |\n",
    "| - | - | - |\n",
    "| 1  | Buffy | 555-555-5555 |"
   ]
  },
  {
   "cell_type": "markdown",
   "metadata": {},
   "source": [
    "Then the target should match the example:"
   ]
  },
  {
   "cell_type": "markdown",
   "metadata": {
    "scenario": "simple_mapper",
    "table_name": "target"
   },
   "source": [
    "| Student_ID__c | FirstName | Phone |\n",
    "| - | - | - |\n",
    "| 1  | Buffy | 555-555-5555 |"
   ]
  },
  {
   "cell_type": "code",
   "execution_count": 89,
   "metadata": {},
   "outputs": [],
   "source": [
    "def simple_map_job(source):\n",
    "    target_df = pd.DataFrame([])\n",
    "    target_df['Student_ID__c'] = source['id']\n",
    "    target_df['FirstName'] = source['first_name']\n",
    "    target_df['Phone'] = source['phone']\n",
    "    return target_df\n",
    "\n",
    "\n",
    "result_df = simple_map_job(get_markdown_table('simple_mapper', 'source'))\n",
    "assert_frame_equal(result_df, get_markdown_table('simple_mapper', 'target'))"
   ]
  },
  {
   "cell_type": "markdown",
   "metadata": {},
   "source": [
    "## Simple transform"
   ]
  },
  {
   "cell_type": "markdown",
   "metadata": {},
   "source": [
    "Given the following source called 'MyFile':"
   ]
  },
  {
   "cell_type": "markdown",
   "metadata": {
    "scenario": "simple_transform",
    "table_name": "source"
   },
   "source": [
    "| id | name |\n",
    "| - | - |\n",
    "| 1  | Summers,Buffy |"
   ]
  },
  {
   "cell_type": "markdown",
   "metadata": {},
   "source": [
    "Then the target 'Catalyst Contact' should match the example:"
   ]
  },
  {
   "cell_type": "markdown",
   "metadata": {
    "scenario": "simple_transform",
    "table_name": "target"
   },
   "source": [
    "| Student_ID__c | FirstName | LastName |\n",
    "| - | - | - | - |\n",
    "| SDH1  | Buffy | Summers |"
   ]
  },
  {
   "cell_type": "code",
   "execution_count": 91,
   "metadata": {},
   "outputs": [],
   "source": [
    "def simple_transform_job(source):\n",
    "    target_df = pd.DataFrame([])\n",
    "    target_df['Student_ID__c'] = source['id'].apply(lambda x: 'SDH{}'.format(x))\n",
    "    target_df['FirstName'] = source['name'].apply(lambda x: x.split(',')[1])\n",
    "    target_df['LastName'] = source['name'].apply(lambda x: x.split(',')[0])\n",
    "    return target_df\n",
    "\n",
    "\n",
    "result_df = simple_transform_job(get_markdown_table('simple_transform', 'source'))\n",
    "assert_frame_equal(result_df, get_markdown_table('simple_transform', 'target'))"
   ]
  },
  {
   "cell_type": "markdown",
   "metadata": {},
   "source": [
    "## Deduper"
   ]
  },
  {
   "cell_type": "markdown",
   "metadata": {},
   "source": [
    "Given the following source called 'MyFile':"
   ]
  },
  {
   "cell_type": "markdown",
   "metadata": {
    "scenario": "deduper",
    "table_name": "source"
   },
   "source": [
    "| id | name |\n",
    "| - | - |\n",
    "| 1  | Buffy |\n",
    "| 1  | Faith |"
   ]
  },
  {
   "cell_type": "markdown",
   "metadata": {},
   "source": [
    "Then the target 'Catalyst Contact' should match the example:"
   ]
  },
  {
   "cell_type": "markdown",
   "metadata": {
    "scenario": "deduper",
    "table_name": "target"
   },
   "source": [
    "| Student_ID__c | FirstName |\n",
    "| - | - | - |\n",
    "| SDH1  | Buffy |"
   ]
  },
  {
   "cell_type": "code",
   "execution_count": 102,
   "metadata": {},
   "outputs": [],
   "source": [
    "def deduper_job(source):\n",
    "    target_df = pd.DataFrame([])\n",
    "    target_df['Student_ID__c'] = source['id'].apply(lambda x: 'SDH{}'.format(x))\n",
    "    target_df['FirstName'] = source['name']\n",
    "    target_df = target_df.drop_duplicates('Student_ID__c', keep='first')\n",
    "    return target_df\n",
    "\n",
    "\n",
    "result_df = deduper_job(get_markdown_table('deduper', 'source'))\n",
    "assert_frame_equal(result_df, get_markdown_table('deduper', 'target'))"
   ]
  },
  {
   "cell_type": "markdown",
   "metadata": {},
   "source": [
    "## Join"
   ]
  },
  {
   "cell_type": "markdown",
   "metadata": {},
   "source": [
    "Given the following source called 'MyFile':"
   ]
  },
  {
   "cell_type": "markdown",
   "metadata": {
    "scenario": "join",
    "table_name": "contacts"
   },
   "source": [
    "| id | name |\n",
    "| - | - |\n",
    "| 1  | Buffy |"
   ]
  },
  {
   "cell_type": "markdown",
   "metadata": {},
   "source": [
    "And the following source called 'ClassesFile':"
   ]
  },
  {
   "cell_type": "markdown",
   "metadata": {
    "scenario": "join",
    "table_name": "classes"
   },
   "source": [
    "| id | student_id | name |\n",
    "| - | - | - |\n",
    "| 1 | 1 | Psychology |\n",
    "| 2 | 1 | History |\n",
    "| 3 | 1 | Physiology |"
   ]
  },
  {
   "cell_type": "markdown",
   "metadata": {},
   "source": [
    "Then the target 'Catalyst Contact' should match the example:"
   ]
  },
  {
   "cell_type": "markdown",
   "metadata": {
    "scenario": "join",
    "table_name": "target"
   },
   "source": [
    "| Class_Record_ID__c | FirstName | ClassName |\n",
    "| - | - | - |\n",
    "| SDH1-1  | Buffy | Psychology |\n",
    "| SDH1-2  | Buffy | History |\n",
    "| SDH1-3  | Buffy | Physiology |"
   ]
  },
  {
   "cell_type": "code",
   "execution_count": 117,
   "metadata": {},
   "outputs": [],
   "source": [
    "def join_job(contacts_df, classes_df):\n",
    "    work_joined_df = contacts_df.merge(classes_df, how='inner', left_on=['id'], right_on=['student_id'], suffixes=('__contact', '__class'))\n",
    "    \n",
    "    result_df = pd.DataFrame([])\n",
    "    result_df['Class_Record_ID__c'] = work_joined_df.apply(lambda row: \"SDH{}-{}\".format(row['id__contact'], row['id__class']), axis=1)\n",
    "    result_df['FirstName'] = work_joined_df['name__contact']\n",
    "    result_df['ClassName'] = work_joined_df['name__class']\n",
    "    return result_df\n",
    "\n",
    "\n",
    "result_df = join_job(get_markdown_table('join', 'contacts'), get_markdown_table('join', 'classes'))\n",
    "assert_frame_equal(result_df, get_markdown_table('join', 'target'))"
   ]
  },
  {
   "cell_type": "code",
   "execution_count": null,
   "metadata": {},
   "outputs": [],
   "source": []
  }
 ],
 "metadata": {
  "kernelspec": {
   "display_name": "Python 3",
   "language": "python",
   "name": "python3"
  },
  "language_info": {
   "codemirror_mode": {
    "name": "ipython",
    "version": 3
   },
   "file_extension": ".py",
   "mimetype": "text/x-python",
   "name": "python",
   "nbconvert_exporter": "python",
   "pygments_lexer": "ipython3",
   "version": "3.6.1"
  }
 },
 "nbformat": 4,
 "nbformat_minor": 2
}
