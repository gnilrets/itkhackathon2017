{
 "cells": [
  {
   "cell_type": "code",
   "execution_count": 1,
   "metadata": {},
   "outputs": [],
   "source": [
    "import nbformat"
   ]
  },
  {
   "cell_type": "code",
   "execution_count": 6,
   "metadata": {},
   "outputs": [
    {
     "name": "stdout",
     "output_type": "stream",
     "text": [
      "---\n",
      "{'cell_type': 'markdown', 'metadata': {}, 'source': '## Simple mapper'}\n",
      "---\n",
      "{'cell_type': 'markdown', 'metadata': {}, 'source': \"Given the following source called 'MyFile':\\n\\n| id | first_name | phone |\\n| - | - | - |\\n| 1  | Buffy | 555-555-5555 |\\n\\nThen the target 'Catalyst Contact' should match the example:\\n\\n| Student_ID__c | FirstName | Phone |\\n| - | - | - |\\n| 1  | Buffy | 555-555-5555 |\"}\n",
      "---\n",
      "{'cell_type': 'markdown', 'metadata': {}, 'source': \"## Simple transform\\n\\nGiven the following source called 'MyFile':\\n\\n| id | name |\\n| - | - |\\n| 1  | Summers, Buffy |\\n\\nThen the target 'Catalyst Contact' should match the example:\\n\\n| Student_ID__c | FirstName | LastName |\\n| - | - | - | - |\\n| SDH1  | Buffy | Summers |\\n\"}\n",
      "---\n",
      "{'cell_type': 'markdown', 'metadata': {}, 'source': \"## Deduper\\n\\nGiven the following source called 'MyFile':\\n\\n| id | name |\\n| - | - |\\n| 1  | Buffy |\\n| 1  | Faith |\\n\\nThen the target 'Catalyst Contact' should match the example:\\n\\n| Student_ID__c | FirstName |\\n| - | - | - |\\n| SDH1  | Buffy |\\n\"}\n",
      "---\n",
      "{'cell_type': 'markdown', 'metadata': {}, 'source': \"## Join\\n\\nGiven the following source called 'MyFile':\\n\\n| id | name |\\n| - | - |\\n| 1  | Buffy |\\n\\nAnd the following source called 'ClassesFile':\\n\\n| id | student_id | name |\\n| - | - | - |\\n| 1 | 1 | Psychology |\\n| 2 | 1 | History |\\n| 3 | 1 | Physiology |\\n\\nThen the target 'Catalyst Contact' should match the example:\\n\\n| Class_Record_ID__c | FirstName | ClassName |\\n| - | - | - |\\n| SDH1-1  | Buffy | Psychology |\\n| SDH1-2  | Buffy | History |\\n| SDH1-3  | Buffy | Physiology |\\n\"}\n"
     ]
    }
   ],
   "source": [
    "fp = open('SomeFeatures.ipynb')\n",
    "nb = nbformat.read(fp, 4)\n",
    "\n",
    "for cell in nb['cells']:\n",
    "    print('---')\n",
    "    print(cell)"
   ]
  },
  {
   "cell_type": "code",
   "execution_count": 15,
   "metadata": {},
   "outputs": [
    {
     "data": {
      "text/plain": [
       "['NBFormatError',\n",
       " 'NO_CONVERT',\n",
       " 'NotebookNode',\n",
       " 'Sentinel',\n",
       " 'ValidationError',\n",
       " '__all__',\n",
       " '__builtins__',\n",
       " '__cached__',\n",
       " '__doc__',\n",
       " '__file__',\n",
       " '__loader__',\n",
       " '__name__',\n",
       " '__package__',\n",
       " '__path__',\n",
       " '__spec__',\n",
       " '__version__',\n",
       " '_version',\n",
       " 'convert',\n",
       " 'converter',\n",
       " 'current_nbformat',\n",
       " 'current_nbformat_minor',\n",
       " 'from_dict',\n",
       " 'get_logger',\n",
       " 'io',\n",
       " 'notebooknode',\n",
       " 'py3compat',\n",
       " 'read',\n",
       " 'reader',\n",
       " 'reads',\n",
       " 'sentinel',\n",
       " 'v1',\n",
       " 'v2',\n",
       " 'v3',\n",
       " 'v4',\n",
       " 'validate',\n",
       " 'validator',\n",
       " 'version_info',\n",
       " 'versions',\n",
       " 'write',\n",
       " 'writes']"
      ]
     },
     "execution_count": 15,
     "metadata": {},
     "output_type": "execute_result"
    }
   ],
   "source": [
    "dir(nbformat)"
   ]
  },
  {
   "cell_type": "code",
   "execution_count": 17,
   "metadata": {},
   "outputs": [
    {
     "data": {
      "text/plain": [
       "<module 'nbformat.notebooknode' from '/Users/gnilrets/miniconda3/envs/hackathon2017/lib/python3.6/site-packages/nbformat/notebooknode.py'>"
      ]
     },
     "execution_count": 17,
     "metadata": {},
     "output_type": "execute_result"
    }
   ],
   "source": [
    "nbformat.notebooknode"
   ]
  },
  {
   "cell_type": "code",
   "execution_count": 18,
   "metadata": {},
   "outputs": [
    {
     "data": {
      "application/javascript": [
       "var nb = IPython.notebook;\n",
       "var kernel = IPython.notebook.kernel;\n",
       "var command = \"NOTEBOOK_FULL_PATH = '\" + nb.base_url + nb.notebook_path + \"'\";\n",
       "kernel.execute(command);"
      ],
      "text/plain": [
       "<IPython.core.display.Javascript object>"
      ]
     },
     "metadata": {},
     "output_type": "display_data"
    }
   ],
   "source": [
    "%%javascript\n",
    "var nb = IPython.notebook;\n",
    "var kernel = IPython.notebook.kernel;\n",
    "var command = \"NOTEBOOK_FULL_PATH = '\" + nb.base_url + nb.notebook_path + \"'\";\n",
    "kernel.execute(command);"
   ]
  },
  {
   "cell_type": "code",
   "execution_count": 19,
   "metadata": {},
   "outputs": [
    {
     "ename": "NameError",
     "evalue": "name 'NOTEBOOK_FULL_PATH' is not defined",
     "output_type": "error",
     "traceback": [
      "\u001b[0;31m---------------------------------------------------------------------------\u001b[0m",
      "\u001b[0;31mNameError\u001b[0m                                 Traceback (most recent call last)",
      "\u001b[0;32m<ipython-input-19-746a4a421b7f>\u001b[0m in \u001b[0;36m<module>\u001b[0;34m()\u001b[0m\n\u001b[0;32m----> 1\u001b[0;31m \u001b[0mprint\u001b[0m\u001b[0;34m(\u001b[0m\u001b[0;34m\"NOTEBOOK_FULL_PATH:\\n\"\u001b[0m\u001b[0;34m,\u001b[0m \u001b[0mNOTEBOOK_FULL_PATH\u001b[0m\u001b[0;34m)\u001b[0m\u001b[0;34m\u001b[0m\u001b[0m\n\u001b[0m",
      "\u001b[0;31mNameError\u001b[0m: name 'NOTEBOOK_FULL_PATH' is not defined"
     ]
    }
   ],
   "source": [
    "print(\"NOTEBOOK_FULL_PATH:\\n\", NOTEBOOK_FULL_PATH)"
   ]
  }
 ],
 "metadata": {
  "kernelspec": {
   "display_name": "Python 3",
   "language": "python",
   "name": "python3"
  },
  "language_info": {
   "codemirror_mode": {
    "name": "ipython",
    "version": 3
   },
   "file_extension": ".py",
   "mimetype": "text/x-python",
   "name": "python",
   "nbconvert_exporter": "python",
   "pygments_lexer": "ipython3",
   "version": "3.6.1"
  }
 },
 "nbformat": 4,
 "nbformat_minor": 2
}
